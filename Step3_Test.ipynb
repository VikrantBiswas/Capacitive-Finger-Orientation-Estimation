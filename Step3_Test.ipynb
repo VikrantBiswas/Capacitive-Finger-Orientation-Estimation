{
 "cells": [
  {
   "cell_type": "markdown",
   "metadata": {},
   "source": [
    "# Test Convolutional Neural Network"
   ]
  },
  {
   "cell_type": "code",
   "execution_count": 1,
   "metadata": {
    "collapsed": true
   },
   "outputs": [],
   "source": [
    "tensorflowFolder = \".\"\n",
    "STORAGE_NAME = 'model'\n",
    "\n",
    "# If no GPU support: toggle the next two lines\n",
    "# GPU_USE = '/cpu:0' \n",
    "GPU_USE= '/gpu:0'"
   ]
  },
  {
   "cell_type": "code",
   "execution_count": 2,
   "metadata": {
    "collapsed": true
   },
   "outputs": [],
   "source": [
    "import pandas as pd\n",
    "import numpy as np\n",
    "import time\n",
    "import os.path\n",
    "\n",
    "import matplotlib.pyplot as plt\n",
    "%matplotlib inline\n",
    "\n",
    "import math\n",
    "import scipy.stats\n",
    "\n",
    "import datetime\n",
    "from datetime import timedelta\n",
    "\n",
    "import tensorflow as tf\n",
    "from tensorflow.python.ops import variable_scope as vs\n",
    "from tensorflow.python.ops import init_ops\n",
    "from tensorflow.contrib.learn.python.learn.datasets import base\n",
    "from tensorflow.python.framework import dtypes"
   ]
  },
  {
   "cell_type": "code",
   "execution_count": 3,
   "metadata": {},
   "outputs": [
    {
     "data": {
      "text/plain": [
       "'1.2.1'"
      ]
     },
     "execution_count": 3,
     "metadata": {},
     "output_type": "execute_result"
    }
   ],
   "source": [
    "tf.__version__"
   ]
  },
  {
   "cell_type": "code",
   "execution_count": 4,
   "metadata": {
    "collapsed": true
   },
   "outputs": [],
   "source": [
    "class DataSet(object):\n",
    "    def __init__(self, images, labels, one_hot=False, dtype=dtypes.float32):\n",
    "        \"\"\"Construct a DataSet.\n",
    "        one_hot arg is used only if fake_data is true.    `dtype` can be either\n",
    "        `uint8` to leave the input as `[0, 255]`, or `float32` to rescale into\n",
    "        `[0, 1]`.\n",
    "        \"\"\"\n",
    "        dtype = dtypes.as_dtype(dtype).base_dtype\n",
    "        if dtype not in (dtypes.uint8, dtypes.float32):\n",
    "            raise TypeError('Invalid image dtype %r, expected uint8 or float32' % dtype)\n",
    "        assert images.shape[0] == labels.shape[0], ('images.shape: %s labels.shape: %s' % (images.shape, labels.shape))\n",
    "        self._num_examples = images.shape[0]\n",
    "\n",
    "        # Convert shape from [num examples, rows, columns, depth]\n",
    "        # to [num examples, rows*columns] (assuming depth == 1)\n",
    "        if dtype == dtypes.float32:\n",
    "            # Convert from [0, 255] -> [0.0, 1.0].'\n",
    "            images = np.multiply(images, 1.0 / 255.0)\n",
    "        self._images = images\n",
    "        self._labels = labels\n",
    "        self._epochs_completed = 0\n",
    "        self._index_in_epoch = 0\n",
    "\n",
    "    @property\n",
    "    def images(self):\n",
    "        return self._images\n",
    "\n",
    "    @property\n",
    "    def labels(self):\n",
    "        return self._labels\n",
    "\n",
    "    @property\n",
    "    def num_examples(self):\n",
    "        return self._num_examples\n",
    "\n",
    "    @property\n",
    "    def epochs_completed(self):\n",
    "        return self._epochs_completed\n",
    "    \n",
    "    def reset(self):\n",
    "        self._epochs_completed = 0\n",
    "\n",
    "    def next_batch(self, batch_size):\n",
    "        \"\"\"Return the next `batch_size` examples from this data set.\"\"\"\n",
    "        start = self._index_in_epoch\n",
    "        self._index_in_epoch += batch_size\n",
    "        if self._index_in_epoch > self._num_examples:\n",
    "            # Finished epoch\n",
    "            self._epochs_completed += 1\n",
    "            # Shuffle the data\n",
    "            perm = np.arange(self._num_examples)\n",
    "            np.random.shuffle(perm)\n",
    "            self._images = self._images[perm]\n",
    "            self._labels = self._labels[perm]\n",
    "            # Start next epoch\n",
    "            start = 0\n",
    "            self._index_in_epoch = batch_size\n",
    "            assert batch_size <= self._num_examples\n",
    "        end = self._index_in_epoch\n",
    "        return self._images[start:end], self._labels[start:end]\n",
    "\n",
    "def read_data_sets(datapath,\n",
    "                   one_hot=False,\n",
    "                   dtype=dtypes.float32,\n",
    "                   split = (80, 20)):\n",
    "    print(\"Loading ...\")\n",
    "    df = pd.read_pickle(datapath)\n",
    "\n",
    "    # We need to sort the participant in order to ensure that we never use traings data in a test\n",
    "    ps = np.array(sorted(df.Participant.unique()))\n",
    "    x1 = math.floor(len(ps) * split[0] / 100.0)\n",
    "    split_train = ps[:x1]\n",
    "    x2 = math.floor(len(ps) * split[1] / 100.0)\n",
    "    split_test = ps[x1:]\n",
    "    \n",
    "    print (\"Slpit by samples : %.2f / %.2f \"% (np.round(len(split_train) / len(ps),2), np.round(len(split_test) / len(ps),2)))\n",
    "    \n",
    "    n_input_x = df.MatrixCroppedSameSize.iloc[0].shape[0]\n",
    "    n_input_y = df.MatrixCroppedSameSize.iloc[0].shape[1]\n",
    "    n_input_channels = 1\n",
    "    \n",
    "    df2 = df[df.Participant.isin(split_train)]\n",
    "    xList = []\n",
    "    for x in np.array(df2.MatrixCroppedSameSize):\n",
    "        xList.append(x.reshape(n_input_x, n_input_y, n_input_channels))\n",
    "    train_images = np.array(xList)\n",
    "    train_labels = np.concatenate((np.array(df2.Pitch).reshape(len(df2),1), np.array(df2.Yaw).reshape(len(df2),1)), axis=1)\n",
    "    \n",
    "        \n",
    "    df2 = df[df.Participant.isin(split_test)]\n",
    "    xList = []\n",
    "    for x in np.array(df2.MatrixCroppedSameSize):\n",
    "        xList.append(x.reshape(n_input_x, n_input_y, n_input_channels))\n",
    "    test_images = np.array(xList)    \n",
    "    test_labels = np.concatenate((np.array(df2.Pitch).reshape(len(df2),1), np.array(df2.Yaw).reshape(len(df2),1)), axis=1)\n",
    "    \n",
    "    seed = np.random.randint(0, 10000000)\n",
    "    np.random.seed(seed)\n",
    "    np.random.shuffle(train_images)\n",
    "    np.random.seed(seed)\n",
    "    np.random.shuffle(train_labels)\n",
    "    \n",
    "    seed = np.random.randint(0, 10000000)\n",
    "    np.random.seed(seed)\n",
    "    np.random.shuffle(test_images)\n",
    "    np.random.seed(seed)\n",
    "    np.random.shuffle(test_labels)\n",
    "    \n",
    "    train = DataSet(train_images, train_labels, dtype=dtype)\n",
    "    test = DataSet(test_images, test_labels, dtype=dtype)\n",
    "    \n",
    "    del df\n",
    "    del df2\n",
    "    print(\"Done!\")\n",
    "    return base.Datasets(train=train, test=test, validation=None)"
   ]
  },
  {
   "cell_type": "code",
   "execution_count": 5,
   "metadata": {},
   "outputs": [
    {
     "name": "stdout",
     "output_type": "stream",
     "text": [
      "Loading ...\n",
      "Slpit by samples : 0.79 / 0.21 \n",
      "Done!\n"
     ]
    }
   ],
   "source": [
    "data = read_data_sets('./data/all_data.pkl')"
   ]
  },
  {
   "cell_type": "code",
   "execution_count": 6,
   "metadata": {},
   "outputs": [
    {
     "name": "stdout",
     "output_type": "stream",
     "text": [
      "Size of:\n",
      "- Training-set:\t368836\n",
      "- Test-set:\t88432\n"
     ]
    }
   ],
   "source": [
    "print(\"Size of:\")\n",
    "print(\"- Training-set:\\t%i\" % len(data.train.labels))\n",
    "print(\"- Test-set:\\t%i\" % len(data.test.labels))"
   ]
  },
  {
   "cell_type": "code",
   "execution_count": 7,
   "metadata": {
    "scrolled": false
   },
   "outputs": [
    {
     "name": "stdout",
     "output_type": "stream",
     "text": [
      "INFO:tensorflow:Restoring parameters from ./model/papermodel/model-6\n"
     ]
    }
   ],
   "source": [
    "# Change is line if you want to test a new modle\n",
    "input_checkpoint = tensorflowFolder + '/'+ STORAGE_NAME + '/papermodel/model-6'\n",
    "\n",
    "output_node_name = \"output_tensor:0\"\n",
    "input_node_name = \"input_tensor:0\"\n",
    "train_batch_size = 100\n",
    "\n",
    "tf.reset_default_graph()\n",
    "init = tf.global_variables_initializer()\n",
    "\n",
    "# You may want to ajust the \"config.gpu_options\"\n",
    "config = tf.ConfigProto(log_device_placement=True, allow_soft_placement=True)\n",
    "config.gpu_options.allow_growth=False\n",
    "config.gpu_options.per_process_gpu_memory_fraction=0.1\n",
    "config.gpu_options.allocator_type = 'BFC'\n",
    "\n",
    "saver = tf.train.import_meta_graph(input_checkpoint + '.meta', clear_devices=True)\n",
    "with tf.Session(config=config) as sess:\n",
    "    sess.run(init)\n",
    "    saver.restore(sess, input_checkpoint)\n",
    "\n",
    "    graph = tf.get_default_graph()\n",
    "        \n",
    "    _x = graph.get_tensor_by_name(input_node_name)\n",
    "    \n",
    "    input_graph_def = graph.as_graph_def()\n",
    "\n",
    "    op_to_restore = graph.get_tensor_by_name(output_node_name)\n",
    "            \n",
    "    epochs = data.test.epochs_completed\n",
    "    true_y = np.array([]) \n",
    "    pred_y = np.array([])\n",
    "    while True:\n",
    "        x_batch, y_batch = data.test.next_batch(train_batch_size)\n",
    "\n",
    "        y_pred_batch = sess.run([op_to_restore], feed_dict= {_x: x_batch})#, _y_true: y_batch} )\n",
    "\n",
    "        if len(true_y) == 0:\n",
    "            true_y = y_batch\n",
    "            pred_y = y_pred_batch[0]\n",
    "        else:\n",
    "            true_y = np.concatenate((true_y, y_batch), axis=0)\n",
    "            pred_y = np.concatenate((pred_y, y_pred_batch[0]), axis=0)\n",
    "\n",
    "        if epochs != data.test.epochs_completed:    \n",
    "            break"
   ]
  },
  {
   "cell_type": "code",
   "execution_count": 8,
   "metadata": {
    "collapsed": true
   },
   "outputs": [],
   "source": [
    "diff_true = true_y[:,0] + true_y[:,1]\n",
    "diff_pred = pred_y[:,0] + pred_y[:,1]\n",
    "RMSE = np.sqrt(np.mean(np.square(np.subtract(diff_pred, diff_true))))\n",
    "RMSEPitch = np.sqrt(np.mean(np.square(np.subtract(pred_y[:,0], true_y[:,0]))))\n",
    "RMSEYaw   = np.sqrt(np.mean(np.square(np.subtract(pred_y[:,1], true_y[:,1]))))"
   ]
  },
  {
   "cell_type": "code",
   "execution_count": 9,
   "metadata": {},
   "outputs": [
    {
     "data": {
      "text/plain": [
       "12.798557320463349"
      ]
     },
     "execution_count": 9,
     "metadata": {},
     "output_type": "execute_result"
    }
   ],
   "source": [
    "RMSEPitch"
   ]
  },
  {
   "cell_type": "code",
   "execution_count": 10,
   "metadata": {},
   "outputs": [
    {
     "data": {
      "text/plain": [
       "24.19498806275924"
      ]
     },
     "execution_count": 10,
     "metadata": {},
     "output_type": "execute_result"
    }
   ],
   "source": [
    "RMSEYaw"
   ]
  },
  {
   "cell_type": "code",
   "execution_count": 11,
   "metadata": {},
   "outputs": [
    {
     "data": {
      "text/plain": [
       "27.156041031383459"
      ]
     },
     "execution_count": 11,
     "metadata": {},
     "output_type": "execute_result"
    }
   ],
   "source": [
    "RMSE"
   ]
  },
  {
   "cell_type": "code",
   "execution_count": 12,
   "metadata": {
    "collapsed": true
   },
   "outputs": [],
   "source": [
    "df2 = pd.DataFrame(np.array([true_y[:,0], true_y[:,1], pred_y[:,0], pred_y[:,1]]).T)\n",
    "df2.columns = [\"Pitch\", \"Yaw\", \"PitchPred\", \"YawPred\"]"
   ]
  },
  {
   "cell_type": "code",
   "execution_count": 13,
   "metadata": {
    "collapsed": true
   },
   "outputs": [],
   "source": [
    "df2[\"PitchGroup\"]  = np.round(df2.Pitch)\n",
    "df2[\"PitchError\"] = np.abs(df2.Pitch - df2.PitchPred)\n",
    "dataPitch = df2.groupby(\"PitchGroup\").PitchError.mean()\n",
    "\n",
    "df2[\"YawGroup\"]  = np.round(df2.Yaw)\n",
    "df2[\"YawError\"] = np.abs(df2.Yaw - df2.YawPred)\n",
    "dataYaw = df2.groupby(\"YawGroup\").YawError.mean()"
   ]
  },
  {
   "cell_type": "code",
   "execution_count": 14,
   "metadata": {},
   "outputs": [
    {
     "data": {
      "image/png": "[encoded data removed]",
      "text/plain": [
       "<matplotlib.figure.Figure at 0x7fac2d18c240>"
      ]
     },
     "metadata": {},
     "output_type": "display_data"
    }
   ],
   "source": [
    "fig, ax = plt.subplots(figsize=(6,3.5))\n",
    "\n",
    "plt.plot(dataPitch.index, dataPitch.values)\n",
    "plt.xlim(0,90)\n",
    "plt.ylim(0,50)\n",
    "plt.xlabel(\"Ground truth pitch in degree\")\n",
    "plt.ylabel(\"Absolut mean pitch error in degree\")\n",
    "\n",
    "lUpper = list()\n",
    "lLower = list()\n",
    "for j in sorted(df2['PitchGroup'].unique()):\n",
    "    a = df2[df2['PitchGroup'] == j]\n",
    "    a = a['PitchError']\n",
    "    a = a.tolist()\n",
    "    low, up = scipy.stats.t.interval(0.95, len(a)-1, loc=np.mean(a), scale=scipy.stats.sem(a))\n",
    "    lLower.append(low)\n",
    "    lUpper.append(up)\n",
    "\n",
    "ax.fill_between(sorted(df2['PitchGroup'].unique()), lUpper, lLower, color='gray', alpha=0.3)\n",
    "\n",
    "plt.show()"
   ]
  },
  {
   "cell_type": "code",
   "execution_count": 15,
   "metadata": {},
   "outputs": [
    {
     "data": {
      "image/png": "[encoded data removed]",
      "text/plain": [
       "<matplotlib.figure.Figure at 0x7fac2cf22cc0>"
      ]
     },
     "metadata": {},
     "output_type": "display_data"
    }
   ],
   "source": [
    "fig, ax = plt.subplots(figsize=(6,3.5))\n",
    "\n",
    "plt.plot(dataYaw.index, dataYaw.values)\n",
    "plt.xlim(-90,90)\n",
    "plt.ylim(0,30)\n",
    "plt.xlabel(\"Ground truth yaw in degree\")\n",
    "plt.ylabel(\"Absolut mean yaw error in degree\")\n",
    "\n",
    "plt.xticks(np.arange(-90,91,45/2))\n",
    "lUpper = list()\n",
    "lLower = list()\n",
    "for j in sorted(df2['YawGroup'].unique()):\n",
    "    a = df2[df2['YawGroup'] == j]\n",
    "    a = a['YawError']\n",
    "    a = a.tolist()\n",
    "    low, up = scipy.stats.t.interval(0.95, len(a)-1, loc=np.mean(a), scale=scipy.stats.sem(a))\n",
    "    lLower.append(low)\n",
    "    lUpper.append(up)\n",
    "\n",
    "ax.fill_between(sorted(df2['YawGroup'].unique()), lUpper, lLower, color='gray', alpha=0.3)\n",
    "\n",
    "plt.show()"
   ]
  }
 ],
 "metadata": {
  "kernelspec": {
   "display_name": "Python 3",
   "language": "python",
   "name": "python3"
  },
  "language_info": {
   "codemirror_mode": {
    "name": "ipython",
    "version": 3
   },
   "file_extension": ".py",
   "mimetype": "text/x-python",
   "name": "python",
   "nbconvert_exporter": "python",
   "pygments_lexer": "ipython3",
   "version": "3.6.1"
  }
 },
 "nbformat": 4,
 "nbformat_minor": 2
}
